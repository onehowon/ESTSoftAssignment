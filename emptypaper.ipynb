{
  "nbformat": 4,
  "nbformat_minor": 0,
  "metadata": {
    "colab": {
      "provenance": [],
      "authorship_tag": "ABX9TyP4wscZCAESOceRg2AMMXdt",
      "include_colab_link": true
    },
    "kernelspec": {
      "name": "python3",
      "display_name": "Python 3"
    },
    "language_info": {
      "name": "python"
    }
  },
  "cells": [
    {
      "cell_type": "markdown",
      "metadata": {
        "id": "view-in-github",
        "colab_type": "text"
      },
      "source": [
        "<a href=\"https://colab.research.google.com/github/onehowon/ormi3/blob/main/emptypaper.ipynb\" target=\"_parent\"><img src=\"https://colab.research.google.com/assets/colab-badge.svg\" alt=\"Open In Colab\"/></a>"
      ]
    },
    {
      "cell_type": "code",
      "execution_count": null,
      "metadata": {
        "colab": {
          "base_uri": "https://localhost:8080/"
        },
        "id": "0PraCj36X5__",
        "outputId": "053d7aee-c311-42d0-902a-925a11572de6"
      },
      "outputs": [
        {
          "output_type": "stream",
          "name": "stdout",
          "text": [
            "type(10) : <class 'int'>\n",
            "type(10.1) : <class 'float'>\n",
            "type(-1) : <class 'int'>\n",
            "type(True) : <class 'bool'>\n",
            "type('good') : <class 'str'>\n",
            "type('good'.upper) : <class 'builtin_function_or_method'>\n",
            "'10' + '10' : 1010\n",
            "'10' * 3 : 101010\n",
            "'hong' + 'gildong' : kimhonggildong\n",
            "type('gildong') : <class 'str'>\n",
            "type('gildong100!!') : <class 'str'>\n",
            "type(10 + 2j) : <class 'complex'>\n",
            "type(0b110) : <class 'int'>\n",
            "6\n",
            "type(0o56) : <class 'str'>\n",
            "example\n",
            "type(0xAC) : <class 'int'>\n",
            "172\n",
            "type(def func():...생략...) : <class 'function'>\n",
            "type(print) : <class 'builtin_function_or_method'>\n",
            "type(lambda x:x**2) : <class 'function'>\n",
            "type(int) : <class 'type'>\n"
          ]
        }
      ],
      "source": [
        "a = 10\n",
        "b = 10.1\n",
        "c = -1\n",
        "d = True\n",
        "e = 'good'\n",
        "f = '10'\n",
        "g = 'kim'\n",
        "h = 'honggildong'\n",
        "i = 'example'\n",
        "j = 10 + 2j\n",
        "k = 0b110\n",
        "l = 0o56\n",
        "m = 0xAC\n",
        "\n",
        "def hello():\n",
        "  return\n",
        "\n",
        "class A:\n",
        "  pass\n",
        "\n",
        "n = hello\n",
        "o = print\n",
        "p = lambda x:x**2\n",
        "q = int\n",
        "r = A\n",
        "s = A()\n",
        "\n",
        "print(f'type(10) : {type(a)}')\n",
        "print(f'type(10.1) : {type(b)}')\n",
        "print(f'type(-1) : {type(c)}')\n",
        "print(f'type(True) : {type(d)}')\n",
        "print(f'type(\\'good\\') : {type(e)}')\n",
        "print(f'type(\\'good\\'.upper) : {type(e.upper)}')\n",
        "print(f'\\'10\\' + \\'10\\' : {f + f}')\n",
        "print(f'\\'10\\' * 3 : {f * 3}')\n",
        "print(f'\\'hong\\' + \\'gildong\\' : {g + h}')\n",
        "print(f'type(\\'gildong\\') : {type(h)}')\n",
        "print(f'type(\\'gildong100!!\\') : {type(i)}')\n",
        "print(f'type(10 + 2j) : {type(j)}')\n",
        "print(f'type(0b110) : {type(k)}')\n",
        "print(k)\n",
        "print(f'type(0o56) : {type(i)}')\n",
        "print(i)\n",
        "print(f'type(0xAC) : {type(m)}')\n",
        "print(m)\n",
        "print(f'type(def func():...생략...) : {type(n)}')\n",
        "print(f'type(print) : {type(o)}')\n",
        "print(f'type(lambda x:x**2) : {type(p)}')\n",
        "print(f'type(int) : {type(int)}')"
      ]
    },
    {
      "cell_type": "code",
      "source": [
        "x = 10\n",
        "x= 20\n",
        "print(x)"
      ],
      "metadata": {
        "colab": {
          "base_uri": "https://localhost:8080/"
        },
        "id": "jiWk-3kXYfJR",
        "outputId": "c10fbd89-cdf9-4ba0-c72a-633b18fbb55c"
      },
      "execution_count": null,
      "outputs": [
        {
          "output_type": "stream",
          "name": "stdout",
          "text": [
            "20\n"
          ]
        }
      ]
    },
    {
      "cell_type": "code",
      "source": [
        "x = [10,20]\n",
        "y = x\n",
        "z = y\n",
        "x = 100\n",
        "x, y ,z"
      ],
      "metadata": {
        "colab": {
          "base_uri": "https://localhost:8080/"
        },
        "id": "a5dIPRV_Y9Ik",
        "outputId": "86c59c54-0e61-4135-8298-45339d7b76d7"
      },
      "execution_count": null,
      "outputs": [
        {
          "output_type": "execute_result",
          "data": {
            "text/plain": [
              "(100, [10, 20], [10, 20])"
            ]
          },
          "metadata": {},
          "execution_count": 7
        }
      ]
    },
    {
      "cell_type": "code",
      "source": [
        "a = input(\"a를 입력하세요\")\n",
        "a"
      ],
      "metadata": {
        "colab": {
          "base_uri": "https://localhost:8080/",
          "height": 54
        },
        "id": "S8aM-CzlZhEW",
        "outputId": "dc58df8f-aa37-4bb0-cd27-49eaff49b184"
      },
      "execution_count": null,
      "outputs": [
        {
          "name": "stdout",
          "output_type": "stream",
          "text": [
            "a를 입력하세요5\n"
          ]
        },
        {
          "output_type": "execute_result",
          "data": {
            "text/plain": [
              "'5'"
            ],
            "application/vnd.google.colaboratory.intrinsic+json": {
              "type": "string"
            }
          },
          "metadata": {},
          "execution_count": 10
        }
      ]
    },
    {
      "cell_type": "code",
      "source": [
        "print('제 이름은 %s입니다. 제 나이는 %d입니다.'%(\"원호\",17))"
      ],
      "metadata": {
        "colab": {
          "base_uri": "https://localhost:8080/"
        },
        "id": "Upjw9EjuZu_V",
        "outputId": "3ac65267-fe2a-49be-94ae-3716062598e1"
      },
      "execution_count": null,
      "outputs": [
        {
          "output_type": "stream",
          "name": "stdout",
          "text": [
            "제 이름은 원호입니다. 제 나이는 17입니다.\n"
          ]
        }
      ]
    },
    {
      "cell_type": "code",
      "source": [
        "A = 486\n",
        "B = 0b100\n",
        "C = 0o56\n",
        "D = 0xAC\n",
        "E= 3.14\n",
        "F = 4-4j\n",
        "\n",
        "print(type(A))\n",
        "print(type(B))\n",
        "print(type(C))\n",
        "print(type(D))\n",
        "print(type(E))\n",
        "print(type(F))"
      ],
      "metadata": {
        "colab": {
          "base_uri": "https://localhost:8080/"
        },
        "id": "rqX2SO_deqPk",
        "outputId": "fe0dc52e-996c-451d-b227-f16110d9935d"
      },
      "execution_count": null,
      "outputs": [
        {
          "output_type": "stream",
          "name": "stdout",
          "text": [
            "<class 'int'>\n",
            "<class 'int'>\n",
            "<class 'int'>\n",
            "<class 'int'>\n",
            "<class 'float'>\n",
            "<class 'complex'>\n"
          ]
        }
      ]
    },
    {
      "cell_type": "code",
      "source": [
        "s='10'\n",
        "float(s)\n",
        "\n",
        "s='10000'\n",
        "float(s)"
      ],
      "metadata": {
        "id": "dr65qG26e6Bv",
        "colab": {
          "base_uri": "https://localhost:8080/"
        },
        "outputId": "89fa13ad-04e1-42b8-f28c-19beefaf2a5a"
      },
      "execution_count": null,
      "outputs": [
        {
          "output_type": "execute_result",
          "data": {
            "text/plain": [
              "10000.0"
            ]
          },
          "metadata": {},
          "execution_count": 1
        }
      ]
    },
    {
      "cell_type": "code",
      "source": [
        "name='leehojun'\n",
        "tuple(name)"
      ],
      "metadata": {
        "colab": {
          "base_uri": "https://localhost:8080/"
        },
        "id": "P7l00TCEA_hp",
        "outputId": "3207f62d-9d35-40af-d24f-f458b7ba1f57"
      },
      "execution_count": null,
      "outputs": [
        {
          "output_type": "execute_result",
          "data": {
            "text/plain": [
              "('l', 'e', 'e', 'h', 'o', 'j', 'u', 'n')"
            ]
          },
          "metadata": {},
          "execution_count": 2
        }
      ]
    },
    {
      "cell_type": "code",
      "source": [
        "name='leehojun'\n",
        "dict(name)\n",
        "\n",
        "s=[('name', 'leehojun'),('age',10)]\n",
        "d=dict(s)\n",
        "d"
      ],
      "metadata": {
        "colab": {
          "base_uri": "https://localhost:8080/",
          "height": 258
        },
        "id": "Re2M00f5BFQh",
        "outputId": "56aea4dd-a5f3-4647-dce4-0ae7be63bc2e"
      },
      "execution_count": null,
      "outputs": [
        {
          "output_type": "error",
          "ename": "ValueError",
          "evalue": "ignored",
          "traceback": [
            "\u001b[0;31m---------------------------------------------------------------------------\u001b[0m",
            "\u001b[0;31mValueError\u001b[0m                                Traceback (most recent call last)",
            "\u001b[0;32m<ipython-input-3-30ff0174badd>\u001b[0m in \u001b[0;36m<cell line: 2>\u001b[0;34m()\u001b[0m\n\u001b[1;32m      1\u001b[0m \u001b[0mname\u001b[0m\u001b[0;34m=\u001b[0m\u001b[0;34m'leehojun'\u001b[0m\u001b[0;34m\u001b[0m\u001b[0;34m\u001b[0m\u001b[0m\n\u001b[0;32m----> 2\u001b[0;31m \u001b[0mdict\u001b[0m\u001b[0;34m(\u001b[0m\u001b[0mname\u001b[0m\u001b[0;34m)\u001b[0m\u001b[0;34m\u001b[0m\u001b[0;34m\u001b[0m\u001b[0m\n\u001b[0m\u001b[1;32m      3\u001b[0m \u001b[0;34m\u001b[0m\u001b[0m\n\u001b[1;32m      4\u001b[0m \u001b[0ms\u001b[0m\u001b[0;34m=\u001b[0m\u001b[0;34m[\u001b[0m\u001b[0;34m(\u001b[0m\u001b[0;34m'name'\u001b[0m\u001b[0;34m,\u001b[0m \u001b[0;34m'leehojun'\u001b[0m\u001b[0;34m)\u001b[0m\u001b[0;34m,\u001b[0m\u001b[0;34m(\u001b[0m\u001b[0;34m'age'\u001b[0m\u001b[0;34m,\u001b[0m\u001b[0;36m10\u001b[0m\u001b[0;34m)\u001b[0m\u001b[0;34m]\u001b[0m\u001b[0;34m\u001b[0m\u001b[0;34m\u001b[0m\u001b[0m\n\u001b[1;32m      5\u001b[0m \u001b[0md\u001b[0m\u001b[0;34m=\u001b[0m\u001b[0mdict\u001b[0m\u001b[0;34m(\u001b[0m\u001b[0ms\u001b[0m\u001b[0;34m)\u001b[0m\u001b[0;34m\u001b[0m\u001b[0;34m\u001b[0m\u001b[0m\n",
            "\u001b[0;31mValueError\u001b[0m: dictionary update sequence element #0 has length 1; 2 is required"
          ]
        }
      ]
    },
    {
      "cell_type": "code",
      "source": [
        "user = str(input())\n",
        "if user == 'abc':\n",
        "  print(user+'abc')"
      ],
      "metadata": {
        "id": "JbwqWKLuBegO",
        "colab": {
          "base_uri": "https://localhost:8080/"
        },
        "outputId": "9beee852-b9f8-4777-e82f-571465b757c3"
      },
      "execution_count": null,
      "outputs": [
        {
          "name": "stdout",
          "output_type": "stream",
          "text": [
            "a\n"
          ]
        }
      ]
    },
    {
      "cell_type": "code",
      "source": [
        "num = 123456789\n",
        "s = str(num)\n",
        "l = list(s)\n",
        "s\n",
        "print(s[4])"
      ],
      "metadata": {
        "colab": {
          "base_uri": "https://localhost:8080/"
        },
        "id": "uiS-r8XNDfqG",
        "outputId": "02572151-1cdc-4883-94f6-066c267322f4"
      },
      "execution_count": null,
      "outputs": [
        {
          "output_type": "stream",
          "name": "stdout",
          "text": [
            "5\n"
          ]
        }
      ]
    },
    {
      "cell_type": "code",
      "source": [
        "a = 100\n",
        "(a > 100) and (a< 200)\n",
        "(a > 100) or (a < 200)\n",
        "(a >=100) and (a <=200)\n",
        "(a >=100) or (a <=200)\n"
      ],
      "metadata": {
        "colab": {
          "base_uri": "https://localhost:8080/"
        },
        "id": "hXRHtNJCDrd9",
        "outputId": "01b6f412-5538-4bb3-a5bd-614a59c1f97a"
      },
      "execution_count": null,
      "outputs": [
        {
          "output_type": "execute_result",
          "data": {
            "text/plain": [
              "True"
            ]
          },
          "metadata": {},
          "execution_count": 17
        }
      ]
    },
    {
      "cell_type": "code",
      "source": [
        "b = 25\n",
        "(b%2 ==0) and (b%5 == 0)"
      ],
      "metadata": {
        "id": "n2XNPH_-Dmks"
      },
      "execution_count": null,
      "outputs": []
    },
    {
      "cell_type": "code",
      "source": [
        "c = 1000\n"
      ],
      "metadata": {
        "id": "yvLXuHFCOcF3"
      },
      "execution_count": null,
      "outputs": []
    },
    {
      "cell_type": "code",
      "source": [
        "money = int(input(\"교환할 금액을 입력하세요: \"))\n",
        "\n",
        "num_5000 = money // 5000\n",
        "money = money - num_5000*5000\n",
        "\n",
        "num_1000 = money // 1000\n",
        "money = money - num_1000 * 1000\n",
        "\n",
        "num_500 = money // 500\n",
        "money = money - num_500 * 500\n",
        "\n",
        "num_100 = money // 100\n",
        "money = money - num_100 * 100\n",
        "\n",
        "print(\"5000원 지폐:\", num_5000)\n",
        "print(\"1000원 지폐:\", num_1000)\n",
        "print(\"500원 지폐:\", num_500)\n",
        "print(\"100원 지폐:\", num_100)"
      ],
      "metadata": {
        "colab": {
          "base_uri": "https://localhost:8080/"
        },
        "id": "E3lwe5TEOdt1",
        "outputId": "ae668318-f82a-484f-81eb-7f1663a2317a"
      },
      "execution_count": null,
      "outputs": [
        {
          "output_type": "stream",
          "name": "stdout",
          "text": [
            "교환할 금액을 입력하세요: 58450\n",
            "5000원 지폐: 11\n",
            "1000원 지폐: 3\n",
            "500원 지폐: 0\n",
            "100원 지폐: 4\n"
          ]
        }
      ]
    },
    {
      "cell_type": "code",
      "source": [
        "def 부지매입():\n",
        "  pass\n",
        "\n",
        "def 설계도면작성():\n",
        "  pass\n",
        "\n",
        "def 인력모집():\n",
        "  pass\n",
        "\n",
        "def 벽돌쌓기():\n",
        "  pass\n",
        "\n",
        "def 지붕올리기():\n",
        "  pass\n",
        "\n",
        "부지매입()\n",
        "설계도면작성()\n",
        "인력모집()\n",
        "벽돌쌓기()\n",
        "지붕올리기()"
      ],
      "metadata": {
        "id": "O_-dMXoT116_"
      },
      "execution_count": null,
      "outputs": []
    },
    {
      "cell_type": "code",
      "source": [
        "def function(x,y):\n",
        "  z = x+y\n",
        "  return z\n",
        "print('function(5,7)=', function(5,7))"
      ],
      "metadata": {
        "colab": {
          "base_uri": "https://localhost:8080/"
        },
        "id": "7bFiqsOE2XUN",
        "outputId": "491bc889-2eef-4101-8a7f-46584d0b186b"
      },
      "execution_count": null,
      "outputs": [
        {
          "output_type": "stream",
          "name": "stdout",
          "text": [
            "function(5,7)= 12\n"
          ]
        }
      ]
    },
    {
      "cell_type": "code",
      "source": [
        "PI = 3.14\n",
        "def circle(r, inputpi):\n",
        "  z = r*r*inputpi\n",
        "  return z\n",
        "\n",
        "result = circle(10, PI)\n",
        "print(result)"
      ],
      "metadata": {
        "colab": {
          "base_uri": "https://localhost:8080/"
        },
        "id": "9wCLkT252vpt",
        "outputId": "469cabb2-5c24-4edf-b6b7-4ce05368e562"
      },
      "execution_count": null,
      "outputs": [
        {
          "output_type": "stream",
          "name": "stdout",
          "text": [
            "314.0\n"
          ]
        }
      ]
    },
    {
      "cell_type": "code",
      "source": [
        "def f(a,b,c):\n",
        "  print(a,b,c)\n",
        "\n",
        "f(a=100, b=200, c=300)\n",
        "f(c=300, a=100, b=200)"
      ],
      "metadata": {
        "colab": {
          "base_uri": "https://localhost:8080/"
        },
        "id": "MYlDUv_I22HW",
        "outputId": "48f82fa3-9d6b-472f-cf89-97d95b769a4c"
      },
      "execution_count": null,
      "outputs": [
        {
          "output_type": "stream",
          "name": "stdout",
          "text": [
            "100 200 300\n",
            "100 200 300\n"
          ]
        }
      ]
    },
    {
      "cell_type": "code",
      "source": [
        "a = 100\n",
        "def f():\n",
        "  global a\n",
        "  a = a + 1\n",
        "f()"
      ],
      "metadata": {
        "id": "YhR0hObo3y8l"
      },
      "execution_count": null,
      "outputs": []
    },
    {
      "cell_type": "code",
      "source": [
        "x = 10\n",
        "def addx():\n",
        "  global x\n",
        "  x = x+1\n",
        "  return x\n",
        "result = addx()\n",
        "print(\"result: \", result)"
      ],
      "metadata": {
        "colab": {
          "base_uri": "https://localhost:8080/"
        },
        "id": "MI7AjKwW39c3",
        "outputId": "c0d750b0-b27b-4e91-a985-c34587efda25"
      },
      "execution_count": null,
      "outputs": [
        {
          "output_type": "stream",
          "name": "stdout",
          "text": [
            "result:  11\n"
          ]
        }
      ]
    },
    {
      "cell_type": "code",
      "source": [
        "def 숫자출력(count):\n",
        "  if count > 100:\n",
        "    return\n",
        "    print(count)\n",
        "    return 숫자출력(count+1)\n",
        "\n",
        "숫자출력(1)"
      ],
      "metadata": {
        "id": "-yrBsQdx3dHH"
      },
      "execution_count": null,
      "outputs": []
    },
    {
      "cell_type": "code",
      "source": [
        "def 시그마(n):\n",
        "  if n == 1:\n",
        "    return 1\n",
        "  else:\n",
        "    return n + 시그마(n-1)\n",
        "시그마(100)"
      ],
      "metadata": {
        "colab": {
          "base_uri": "https://localhost:8080/"
        },
        "id": "XE7ROJLS5DDX",
        "outputId": "3ec9d8e0-59e5-4d18-8ca7-26f04bb74e9d"
      },
      "execution_count": null,
      "outputs": [
        {
          "output_type": "execute_result",
          "data": {
            "text/plain": [
              "5050"
            ]
          },
          "metadata": {},
          "execution_count": 11
        }
      ]
    },
    {
      "cell_type": "code",
      "source": [
        "a = 'pithon'\n",
        "\n",
        "def 함수1():\n",
        "    def 함수2():\n",
        "        print('love')\n",
        "\n",
        "    print('I')\n",
        "    함수2()\n",
        "    return \"python\"\n",
        "\n",
        "\n",
        "a = 함수1()\n",
        "print(a)"
      ],
      "metadata": {
        "colab": {
          "base_uri": "https://localhost:8080/"
        },
        "id": "9k3xZ_yw5dPB",
        "outputId": "965ab976-852a-4e93-db9e-afcbc50c3fa5"
      },
      "execution_count": null,
      "outputs": [
        {
          "output_type": "stream",
          "name": "stdout",
          "text": [
            "I\n",
            "love\n",
            "python\n"
          ]
        }
      ]
    },
    {
      "cell_type": "code",
      "source": [
        "def plus(num1, num2):\n",
        "  return num1 + num2\n",
        "\n",
        "def minus(num1, num2):\n",
        "  return num1 - num2\n",
        "\n",
        "def multiply(num1, num2):\n",
        "  return num1 * num2\n",
        "\n",
        "def divide(num1, num2):\n",
        "  return num1 / num2\n",
        "\n",
        "print(f'plus : {plus(10,5)}')\n",
        "print(f'minus : {minus(10,5)}')\n",
        "print(f'multiply : {multiply(10,5)}')\n",
        "print(f'divide : {divide(10,5)}')"
      ],
      "metadata": {
        "colab": {
          "base_uri": "https://localhost:8080/"
        },
        "id": "V0c_N8rd5rbO",
        "outputId": "48bdcdd3-e1c3-449a-db38-11d57a6cce2b"
      },
      "execution_count": null,
      "outputs": [
        {
          "output_type": "stream",
          "name": "stdout",
          "text": [
            "plus : 15\n",
            "minus : 5\n",
            "multiply : 50\n",
            "divide : 2.0\n"
          ]
        }
      ]
    },
    {
      "cell_type": "code",
      "source": [
        "def power(x, n):\n",
        "  if n == 0:\n",
        "    return 1\n",
        "  else:\n",
        "    return x * power(x, n-1)"
      ],
      "metadata": {
        "id": "JzE8hmx86DBa"
      },
      "execution_count": null,
      "outputs": []
    },
    {
      "cell_type": "code",
      "source": [
        "a = [1,2,3,4,5]"
      ],
      "metadata": {
        "id": "I9DBpRkp6O5R"
      },
      "execution_count": null,
      "outputs": []
    },
    {
      "cell_type": "code",
      "source": [
        "a[0] = 10000\n",
        "a\n",
        "\n",
        "b=[['a','b','c'],[1,2,3]]\n",
        "b[1][2]\n",
        "\n",
        "s = 'leehojun'\n",
        "s[0]\n",
        "s[0] = 'k'"
      ],
      "metadata": {
        "id": "BPIh7rTP6BOB"
      },
      "execution_count": null,
      "outputs": []
    },
    {
      "cell_type": "code",
      "source": [
        "a = [10000, 2, 1, 3]\n",
        "print(type(a))\n",
        "\n",
        "a = list\n",
        "print(type(a))\n",
        "\n",
        "a = list('leehojun')\n",
        "print(type(a))\n",
        "a\n",
        "a[0]"
      ],
      "metadata": {
        "id": "WVIOH_KZApBw"
      },
      "execution_count": null,
      "outputs": []
    },
    {
      "cell_type": "code",
      "source": [
        "square_gen = (x**2 for x in range(10))\n",
        "gen = (i for i in range(2, 1000000, 2))\n",
        "for i, j in zip(range(10), gen):\n",
        "  print(i, j)"
      ],
      "metadata": {
        "colab": {
          "base_uri": "https://localhost:8080/"
        },
        "id": "RG8In99nYDud",
        "outputId": "35780bb3-5f08-4a83-be7e-76bf1e016e6b"
      },
      "execution_count": null,
      "outputs": [
        {
          "output_type": "stream",
          "name": "stdout",
          "text": [
            "0 2\n",
            "1 4\n",
            "2 6\n",
            "3 8\n",
            "4 10\n",
            "5 12\n",
            "6 14\n",
            "7 16\n",
            "8 18\n",
            "9 20\n"
          ]
        }
      ]
    },
    {
      "cell_type": "code",
      "source": [
        "def test(i):\n",
        "  match i:\n",
        "    case 1:\n",
        "      print(\"One\")\n",
        "    case 2:\n",
        "      print(\"Two\")\n",
        "    case 3 | 4:\n",
        "      print(\"Three of Four\")\n",
        "    case _ if i > 10:\n",
        "      print(\"Greater than ten\")\n",
        "    case _:\n",
        "      print(\"Other\")\n",
        "\n",
        "test(1)\n",
        "test(2)\n",
        "test(3)\n",
        "test(4)\n",
        "test(5)\n",
        "test(15)\n"
      ],
      "metadata": {
        "colab": {
          "base_uri": "https://localhost:8080/"
        },
        "id": "Lgn-6vwyYKqt",
        "outputId": "42d81036-41bc-4c95-dafe-e1ef72e49c19"
      },
      "execution_count": null,
      "outputs": [
        {
          "output_type": "stream",
          "name": "stdout",
          "text": [
            "One\n",
            "Two\n",
            "Three of Four\n",
            "Three of Four\n",
            "Other\n",
            "Greater than ten\n"
          ]
        }
      ]
    },
    {
      "cell_type": "code",
      "source": [
        "def solution(new_id):\n",
        "  new_id = str(new_id).lower()\n",
        "  step2 = ''\n",
        "  for i in new_id:\n",
        "    if i.isalnum() or i in '-_.':\n",
        "      step2 += i\n",
        "  while '..' in step2:\n",
        "    step2 = step2.replace('..', '.')\n",
        "  new_id = step2\n",
        "  new_id = new_id.replace('=', '')\n",
        "  if new_id[-1] == '.':\n",
        "    new_id = new_id[:-1]\n",
        "  if new_id != \"\" and new_id[0] == '.':\n",
        "    new_id = new_id[1:]\n",
        "  if new_id == '':\n",
        "    new_id = 'a'\n",
        "  if len(new_id) >= 15:\n",
        "    new_id = new_id[:15]\n",
        "  if new_id[-1] == '.':\n",
        "    new_id = new_id[:-1]\n",
        "  if len(new_id) <= 2:\n",
        "    new_id = new_id + new_id[-1] * 3\n",
        "    new_id = new_id[:3]\n",
        "  answer = new_id\n",
        "  return answer\n",
        "\n",
        "solution('...!@bat#*..yabcdsfadgklim')"
      ],
      "metadata": {
        "id": "L7bh33Uvemm1",
        "colab": {
          "base_uri": "https://localhost:8080/",
          "height": 35
        },
        "outputId": "7a368d53-37c9-49e3-8c93-8946d20fd956"
      },
      "execution_count": 2,
      "outputs": [
        {
          "output_type": "execute_result",
          "data": {
            "text/plain": [
              "'bat.yabcdsfadgk'"
            ],
            "application/vnd.google.colaboratory.intrinsic+json": {
              "type": "string"
            }
          },
          "metadata": {},
          "execution_count": 2
        }
      ]
    },
    {
      "cell_type": "code",
      "source": [],
      "metadata": {
        "id": "KmsypYsYrMl9"
      },
      "execution_count": null,
      "outputs": []
    },
    {
      "cell_type": "code",
      "source": [],
      "metadata": {
        "id": "TSX8UGUBqKUm"
      },
      "execution_count": null,
      "outputs": []
    },
    {
      "cell_type": "code",
      "source": [],
      "metadata": {
        "id": "jyFGslCyqKO3"
      },
      "execution_count": null,
      "outputs": []
    }
  ]
}